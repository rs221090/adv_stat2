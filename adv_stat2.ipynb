{
 "cells": [
  {
   "cell_type": "markdown",
   "id": "5e1cfd46",
   "metadata": {},
   "source": [
    "1. Explain the properties of the F-distribution. "
   ]
  },
  {
   "cell_type": "markdown",
   "id": "2820f88e",
   "metadata": {},
   "source": [
    "SOLUTION 1\n",
    "\n",
    "Here are some properties of the F-distribution:\n",
    "    \n",
    "Asymmetrical: The F-distribution is skewed to the right and is not symmetrical. \n",
    "\n",
    "Positive values: The F-distribution can only have positive value\n",
    "\n",
    "Defined by two parameters: The F-distribution is defined by the degrees of freedom of the numerator (m)\n",
    "                            and the degrees of freedom of the denominator (n). \n",
    "\n",
    "Approximates the normal distribution: As the degrees of freedom for the numerator and the denominator increase, \n",
    "                                   the F-distribution approaches the normal distribution\n",
    "\n",
    "Uses: The F-distribution is used to compare two variances and in two-way Analysis of Variance\n",
    "\n",
    "Similar to a bell curve: The F-distribution is similar to a bell curve, but with a peak that is skewed to one side. "
   ]
  },
  {
   "cell_type": "markdown",
   "id": "a3247dc0",
   "metadata": {},
   "source": [
    "2. In which types of statistical tests is the F-distribution used, and why is it appropriate for these tests?"
   ]
  },
  {
   "cell_type": "markdown",
   "id": "6722189d",
   "metadata": {},
   "source": [
    "SOLUTION 2\n",
    "\n",
    "The F-distribution is used in several statistical tests, including:\n",
    "    \n",
    "F-test: Used to compare the variances of two samples or the ratio of variances between multiple samples. \n",
    "\n",
    "The F-test is a statistical test that uses the F-distribution as the null distribution\n",
    "\n",
    "Analysis of variance (ANOVA): The F-value obtained from an F-test is used to perform a one-way ANOVA test. \n",
    "\n",
    "Regression analysis: The F-distribution is often used in regression analysis. \n"
   ]
  },
  {
   "cell_type": "markdown",
   "id": "f0b9f5c4",
   "metadata": {},
   "source": [
    "3. What are the key assumptions required for conducting an F-test to compare the variances of two\n",
    "populations?"
   ]
  },
  {
   "cell_type": "markdown",
   "id": "abb866ee",
   "metadata": {},
   "source": [
    "SOLUTION 3\n",
    "\n",
    "To perform a F test of two variances, it is important that the following are true: The populations from which the two\n",
    "samples are drawn are normally distributed. The two populations are independent of each other"
   ]
  },
  {
   "cell_type": "markdown",
   "id": "60f1b0f8",
   "metadata": {},
   "source": [
    "4. What is the purpose of ANOVA, and how does it differ from a t-test? "
   ]
  },
  {
   "cell_type": "markdown",
   "id": "45a1d539",
   "metadata": {},
   "source": [
    "SOLUTION 4\n",
    "\n",
    "The purpose of ANOVA (analysis of variance) is to compare the means of three or more groups,\n",
    "while a t-test compares the means of two groups. Both tests are used when the samples are independent,\n",
    "have approximately normal distributions, and the sample number is high. However, \n",
    "they determine statistical significance in different ways."
   ]
  },
  {
   "cell_type": "markdown",
   "id": "46193a24",
   "metadata": {},
   "source": [
    "5. Explain when and why you would use a one-way ANOVA instead of multiple t-tests when comparing more\n",
    "than two groups."
   ]
  },
  {
   "cell_type": "markdown",
   "id": "31209677",
   "metadata": {},
   "source": [
    "SOLUTION 5\n",
    "\n",
    "A one-way Analysis of Variance (ANOVA) is used instead of multiple t-tests when comparing more than two groups to avoid increasing the chance of a Type I error: \n",
    "Explanation\n",
    "A t-test is used to compare two groups, and there is a 5% chance of making a Type I error for each t-test. If multiple t-tests are conducted, the chance of making a Type I error increases. For example, if two t-tests are conducted, the chance of making a Type I error is 10%. ANOVA controls for this error so that the Type I error remains at 5%"
   ]
  },
  {
   "cell_type": "markdown",
   "id": "45805795",
   "metadata": {},
   "source": [
    "6. Explain how variance is partitioned in ANOVA into between-group variance and within-group variance.\n",
    "How does this partitioning contribute to the calculation of the F-statistic?"
   ]
  },
  {
   "cell_type": "markdown",
   "id": "b4c0ab9d",
   "metadata": {},
   "source": [
    "SOLUTION 6\n",
    "\n",
    "In Analysis of Variance (ANOVA), variance is partitioned into between-group variance and within-group variance to calculate the F-statistic, which estimates the ratio of between-group to within-group variability:\n",
    "Between-group variance\n",
    "Measures the variability between the group means. It's part of the numerator of the F-statistic.\n",
    "Within-group variance\n",
    "Measures the variability within each group. It's part of the denominator of the F-statistic"
   ]
  },
  {
   "cell_type": "markdown",
   "id": "b5cd1620",
   "metadata": {},
   "source": [
    "7. Compare the classical (frequentist) approach to ANOVA with the Bayesian approach. What are the key\n",
    "differences in terms of how they handle uncertainty, parameter estimation, and hypothesis testing?"
   ]
  },
  {
   "cell_type": "markdown",
   "id": "b3ce65a6",
   "metadata": {},
   "source": [
    "SOLUTION 7\n",
    "\n",
    "The main differences between the classical (frequentist) and Bayesian approaches to ANOVA are how they handle uncertainty, parameter estimation, and hypothesis testing: \n",
    "Uncertainty\n",
    "Frequentists assume that probabilities are fixed and objective, while Bayesians accept subjectivity and the idea that probabilities change with new information. \n",
    "Parameter estimation\n",
    "In the Bayesian approach, parameters are treated as random variables, while in the frequentist approach they are fixed. \n",
    "Hypothesis testing\n",
    "In the frequentist approach, a hypothesis is tested without being assigned a probability, while in the Bayesian approach, a probability is assigned to a hypothesis. \n",
    "Prior knowledge\n",
    "Bayesian methods incorporate prior knowledge or beliefs about the parameters being tested, while frequentist methods typically do not. \n",
    "Data\n",
    "The frequentist approach relies solely on the observed data, while the Bayesian approach uses the observed data and prior beliefs from external information. \n",
    "Probability calculation\n",
    "The frequentist approach calculates the probability of obtaining another data set at least as extreme as the one collected, while the Bayesian approach calculates the probability that a particular hypothesis is true."
   ]
  },
  {
   "cell_type": "markdown",
   "id": "c1924fe3",
   "metadata": {},
   "source": [
    "8. Question: You have two sets of data representing the incomes of two different professions1\n",
    "V Profession A: [48, 52, 55, 60, 62'\n",
    "V Profession B: [45, 50, 55, 52, 47] Perform an F-test to determine if the variances of the two professions'\n",
    "incomes are equal. What are your conclusions based on the F-test?\n",
    "\n",
    "Task: Use Python to calculate the F-statistic and p-value for the given data.\n",
    "\n",
    "Objective: Gain experience in performing F-tests and interpreting the results in terms of variance comparison"
   ]
  },
  {
   "cell_type": "code",
   "execution_count": 9,
   "id": "534f9a0e",
   "metadata": {},
   "outputs": [
    {
     "data": {
      "text/plain": [
       "2.089171974522293"
      ]
     },
     "execution_count": 9,
     "metadata": {},
     "output_type": "execute_result"
    }
   ],
   "source": [
    "SOLUTION 8\n",
    "\n",
    "import scipy.stats as stats\n",
    "import numpy as np\n",
    "\n",
    "A =  [48, 52, 55, 60, 62]\n",
    "B =  [45, 50, 55, 52, 47]\n",
    "alpha = 0.05\n",
    "dfn = 4\n",
    "dfd = 4\n",
    "f_stat = np.var(A)/np.var(B)\n",
    "f_stat "
   ]
  },
  {
   "cell_type": "code",
   "execution_count": 16,
   "id": "851543f2",
   "metadata": {},
   "outputs": [
    {
     "data": {
      "text/plain": [
       "0.24652429950266952"
      ]
     },
     "execution_count": 16,
     "metadata": {},
     "output_type": "execute_result"
    }
   ],
   "source": [
    "#USING P -VALUE\n",
    "p_value = 1-stats.f.cdf(f_stat,dfn = 4,dfd = 4)\n",
    "p_value"
   ]
  },
  {
   "cell_type": "markdown",
   "id": "e3574154",
   "metadata": {},
   "source": [
    "As p_value is greater than 0.05 it confirm that variance of two profession are equal"
   ]
  },
  {
   "cell_type": "code",
   "execution_count": null,
   "id": "eed3c777",
   "metadata": {},
   "outputs": [],
   "source": [
    "9. Question: Conduct a one-way ANOVA to test whether there are any statistically significant differences in\n",
    "average heights between three different regions with the following data1\n",
    "V Region A: [160, 162, 165, 158, 164'\n",
    "V Region B: [172, 175, 170, 168, 174'\n",
    "V Region C: [180, 182, 179, 185, 183'\n",
    "V Task: Write Python code to perform the one-way ANOVA and interpret the results\f",
    "\n",
    "V Objective: Learn how to perform one-way ANOVA using Python and interpret F-statistic and p-value."
   ]
  },
  {
   "cell_type": "code",
   "execution_count": 19,
   "id": "7f356e61",
   "metadata": {},
   "outputs": [
    {
     "data": {
      "text/plain": [
       "67.87330316742101"
      ]
     },
     "execution_count": 19,
     "metadata": {},
     "output_type": "execute_result"
    }
   ],
   "source": [
    "#SOLUTION 9\n",
    "A = [160, 162, 165, 158, 164]\n",
    "B = [172, 175, 170, 168, 174]\n",
    "C = [180, 182, 179, 185, 183]\n",
    "f_stats,p_value = stats.f_oneway(A,B,C)\n",
    "f_stats"
   ]
  },
  {
   "cell_type": "code",
   "execution_count": 20,
   "id": "6de6572b",
   "metadata": {},
   "outputs": [
    {
     "data": {
      "text/plain": [
       "2.870664187937026e-07"
      ]
     },
     "execution_count": 20,
     "metadata": {},
     "output_type": "execute_result"
    }
   ],
   "source": [
    "p_value"
   ]
  },
  {
   "cell_type": "code",
   "execution_count": 24,
   "id": "44bd9ddf",
   "metadata": {},
   "outputs": [
    {
     "data": {
      "text/plain": [
       "0.002617101241141462"
      ]
     },
     "execution_count": 24,
     "metadata": {},
     "output_type": "execute_result"
    }
   ],
   "source": [
    "2.87/(np.exp(7))"
   ]
  },
  {
   "cell_type": "code",
   "execution_count": null,
   "id": "3975dc7c",
   "metadata": {},
   "outputs": [],
   "source": [
    "as p_value is less than 0.05 \n",
    "we can conclude there are statistically significant differences in\n",
    "average heights between three different regions"
   ]
  },
  {
   "cell_type": "code",
   "execution_count": null,
   "id": "7d259d2c",
   "metadata": {},
   "outputs": [],
   "source": []
  },
  {
   "cell_type": "code",
   "execution_count": null,
   "id": "d5a88b2f",
   "metadata": {},
   "outputs": [],
   "source": []
  }
 ],
 "metadata": {
  "kernelspec": {
   "display_name": "Python 3",
   "language": "python",
   "name": "python3"
  },
  "language_info": {
   "codemirror_mode": {
    "name": "ipython",
    "version": 3
   },
   "file_extension": ".py",
   "mimetype": "text/x-python",
   "name": "python",
   "nbconvert_exporter": "python",
   "pygments_lexer": "ipython3",
   "version": "3.6.4"
  }
 },
 "nbformat": 4,
 "nbformat_minor": 5
}
